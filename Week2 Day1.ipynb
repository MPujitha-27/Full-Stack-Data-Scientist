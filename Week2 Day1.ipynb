{
 "cells": [
  {
   "cell_type": "code",
   "execution_count": 6,
   "id": "c6504cdb",
   "metadata": {},
   "outputs": [
    {
     "name": "stdout",
     "output_type": "stream",
     "text": [
      "[2, 3, 5, 7, 11, 13, 17, 19]\n"
     ]
    }
   ],
   "source": [
    "def get_primes(n):\n",
    "    primes = []\n",
    "    for num in range(2, n + 1):\n",
    "        is_prime = True\n",
    "        for i in range(2, int(num**0.5) + 1):\n",
    "            if num % i == 0:\n",
    "                is_prime = False\n",
    "                break\n",
    "        if is_prime:\n",
    "            primes.append(num)\n",
    "    return primes\n",
    "print(get_primes(20))"
   ]
  },
  {
   "cell_type": "code",
   "execution_count": 15,
   "id": "750e1892",
   "metadata": {},
   "outputs": [
    {
     "name": "stdout",
     "output_type": "stream",
     "text": [
      "False\n"
     ]
    }
   ],
   "source": [
    "def is_palindrome(s):\n",
    "    s = s.lower().replace(\" \",\"\")\n",
    "    return s == s[::-1]\n",
    "input_str = input()\n",
    "print(is_palindrome(input_str))\n"
   ]
  },
  {
   "cell_type": "code",
   "execution_count": 17,
   "id": "1cdb8075",
   "metadata": {},
   "outputs": [
    {
     "name": "stdout",
     "output_type": "stream",
     "text": [
      "True\n"
     ]
    }
   ],
   "source": [
    "def is_anagram(str1,str2):\n",
    "    str1 = str1.replace(\" \",\"\").lower()\n",
    "    str2 = str2.replace(\" \",\"\").lower()\n",
    "    return sorted(str1) == sorted(str2)\n",
    "str1 = input()\n",
    "str2 = input()\n",
    "print(is_anagram(str1,str2))"
   ]
  },
  {
   "cell_type": "code",
   "execution_count": 18,
   "id": "b95b2b38",
   "metadata": {},
   "outputs": [
    {
     "name": "stdout",
     "output_type": "stream",
     "text": [
      "Vowels: 2\n",
      "Consonants: 3\n"
     ]
    }
   ],
   "source": [
    "def vowelsandconsonants(s):\n",
    "    vowels =\"aeiouAEIOU\"\n",
    "    v_count = 0\n",
    "    c_count = 0\n",
    "    for char in s:\n",
    "        if char.isalpha():\n",
    "            if char in vowels:\n",
    "                v_count += 1\n",
    "            else:\n",
    "                c_count += 1\n",
    "    return v_count, c_count\n",
    "input_str = input()\n",
    "vowels, consonants = vowelsandconsonants(input_str)\n",
    "print(\"Vowels:\", vowels)\n",
    "print(\"Consonants:\", consonants)"
   ]
  },
  {
   "cell_type": "code",
   "execution_count": 19,
   "id": "bd687a63",
   "metadata": {},
   "outputs": [
    {
     "name": "stdout",
     "output_type": "stream",
     "text": [
      "amazing\n"
     ]
    }
   ],
   "source": [
    "def longest_word(s):\n",
    "    word = s.split()\n",
    "    return max(word,key = len)\n",
    "input_str = input()\n",
    "print(longest_word(input_str))\n"
   ]
  },
  {
   "cell_type": "code",
   "execution_count": 23,
   "id": "6be3c0e0",
   "metadata": {},
   "outputs": [
    {
     "data": {
      "text/plain": [
       "'uSfd0J'"
      ]
     },
     "execution_count": 23,
     "metadata": {},
     "output_type": "execute_result"
    }
   ],
   "source": [
    "import random\n",
    "def generate_password(length):\n",
    "    characters = \"abcdefghijklmnopqrstuvwxyzABCDEFGHIJKLMNOPQRSTUVWXYZ0123456789!@#$%^&*()\"\n",
    "    password = ''.join(random.choice(characters) for _ in range(length))\n",
    "    return password\n",
    "length = int(input())\n",
    "generate_password(length)"
   ]
  },
  {
   "cell_type": "code",
   "execution_count": 35,
   "id": "b1c8e2b8",
   "metadata": {},
   "outputs": [
    {
     "name": "stdout",
     "output_type": "stream",
     "text": [
      "5.0\n"
     ]
    }
   ],
   "source": [
    "import math\n",
    "def calculator(func,value):\n",
    "    value = float(value)\n",
    "    if func == \"sqrt\":\n",
    "        print(math.sqrt(value))\n",
    "    elif func == \"factorial\":\n",
    "        print(math.factorial(value))\n",
    "    elif func == \"sin\":\n",
    "        print(math.sin(value))\n",
    "    else:\n",
    "        print(math.cos(value))\n",
    "func = input()\n",
    "value = input()\n",
    "calculator(func,value)\n",
    "\n",
    "\n",
    "\n"
   ]
  },
  {
   "cell_type": "code",
   "execution_count": 38,
   "id": "090b1b28",
   "metadata": {},
   "outputs": [
    {
     "name": "stdout",
     "output_type": "stream",
     "text": [
      "Counter({'cat': 2, 'dog': 1})\n"
     ]
    }
   ],
   "source": [
    "import collections\n",
    "def word_frequency(s):\n",
    "    word = s.split(\" \")\n",
    "    frequency = collections.Counter(word)\n",
    "    return frequency\n",
    "s = input()\n",
    "print(word_frequency(s))\n",
    "\n"
   ]
  },
  {
   "cell_type": "code",
   "execution_count": 44,
   "id": "183cb99a",
   "metadata": {},
   "outputs": [
    {
     "name": "stdout",
     "output_type": "stream",
     "text": [
      "Weather:Sunny Temp:32 C\n"
     ]
    }
   ],
   "source": [
    "import random\n",
    "def weather_stimulator(n):\n",
    "    weather_conditions = [\"Weather:Sunny Temp:32 C\",\"Weather:Rainy Temp:25C\"]\n",
    "    return random.choice(weather_conditions)\n",
    "n = input()\n",
    "print(weather_stimulator(n))\n"
   ]
  },
  {
   "cell_type": "code",
   "execution_count": 48,
   "id": "1378d6bf",
   "metadata": {},
   "outputs": [
    {
     "name": "stdout",
     "output_type": "stream",
     "text": [
      "5\n",
      "4\n",
      "3\n",
      "2\n",
      "1\n",
      "Countdown finished!\n"
     ]
    }
   ],
   "source": [
    "import time\n",
    "def countdown(n):\n",
    "    while n > 0:\n",
    "        for i in range(n, 0, -1):\n",
    "           print(i)\n",
    "        if i == 1:\n",
    "            break\n",
    "    print(\"Countdown finished!\")\n",
    "n = int(input())\n",
    "countdown(n)"
   ]
  },
  {
   "cell_type": "code",
   "execution_count": 52,
   "id": "547e444a",
   "metadata": {},
   "outputs": [
    {
     "name": "stdout",
     "output_type": "stream",
     "text": [
      "Deposited 50 .New balance is 150\n",
      "Withdrew 30. New balance is 120\n"
     ]
    },
    {
     "data": {
      "text/plain": [
       "120"
      ]
     },
     "execution_count": 52,
     "metadata": {},
     "output_type": "execute_result"
    }
   ],
   "source": [
    "class BankAccount():\n",
    "    def __init__(self,balance,owner):\n",
    "        self.balance = balance\n",
    "        self.owner = owner\n",
    "    def deposit(self,amount):\n",
    "        self.balance += amount\n",
    "        print(f\"Deposited {amount} .New balance is {self.balance}\")\n",
    "    def withdraw(self,amount):\n",
    "        if amount > self.balance:\n",
    "            print(\"Insufficient funds\")\n",
    "        else:\n",
    "            self.balance -= amount\n",
    "            print(f\"Withdrew {amount}. New balance is {self.balance}\")\n",
    "    def get_Balance(self):\n",
    "        return self.balance\n",
    "acc = BankAccount(100,\"Mahi\")\n",
    "acc.deposit(50)\n",
    "acc.withdraw(30)\n",
    "acc.get_Balance()"
   ]
  },
  {
   "cell_type": "code",
   "execution_count": 57,
   "id": "ff71bbc7",
   "metadata": {},
   "outputs": [
    {
     "name": "stdout",
     "output_type": "stream",
     "text": [
      "85.0\n",
      "[90, 80, 85, 95]\n",
      "None\n",
      "95\n",
      "80\n"
     ]
    }
   ],
   "source": [
    "class Student:\n",
    "    def __init__(self,name,marks):\n",
    "        self.name = name\n",
    "        self.marks = marks\n",
    "    def average(self,marks):\n",
    "        return sum(marks)/len(marks)\n",
    "    def add_mark(self,marks):\n",
    "        self.marks.append(marks)\n",
    "        print(self.marks)\n",
    "    def highest(self,marks):\n",
    "        return max(marks)\n",
    "    def lowest(self,marks):\n",
    "        return min(marks)\n",
    "s = Student(\"Prudhvi\",[90,80,85])\n",
    "print(s.average(s.marks))\n",
    "print(s.add_mark(95))\n",
    "print(s.highest(s.marks))\n",
    "print(s.lowest(s.marks))\n"
   ]
  },
  {
   "cell_type": "code",
   "execution_count": null,
   "id": "2197eadc",
   "metadata": {},
   "outputs": [],
   "source": [
    "class EmployeeBonus:\n",
    "    def __init__(self,name,salary,role);\n",
    "        self.name = name\n",
    "        self .salary = salary\n",
    "        self.role = role\n",
    "    def calculate_bonus(self,role,salary):\n",
    "        if self.role == \"Manager\":\n",
    "            bonus = 0.2 * self.salary\n",
    "        elif self.role == \"Developer\":\n",
    "            bonus = 0.1 * self.salary\n",
    "        "
   ]
  }
 ],
 "metadata": {
  "kernelspec": {
   "display_name": "Python 3",
   "language": "python",
   "name": "python3"
  },
  "language_info": {
   "codemirror_mode": {
    "name": "ipython",
    "version": 3
   },
   "file_extension": ".py",
   "mimetype": "text/x-python",
   "name": "python",
   "nbconvert_exporter": "python",
   "pygments_lexer": "ipython3",
   "version": "3.11.13"
  }
 },
 "nbformat": 4,
 "nbformat_minor": 5
}

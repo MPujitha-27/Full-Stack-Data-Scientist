{
 "cells": [
  {
   "cell_type": "code",
   "execution_count": null,
   "id": "c3e2cdce",
   "metadata": {},
   "outputs": [],
   "source": [
    "def Calculator():\n",
    "    def swap(a,b):\n",
    "        a,b = b,a\n",
    "        return a,b\n",
    "    a = int(input(\"Enter first value :\"))\n",
    "    b = int(input(\"Enter second value:\"))\n",
    "    swap(a,b)\n",
    "    print(a,b)\n"
   ]
  },
  {
   "cell_type": "code",
   "execution_count": null,
   "id": "9125f5a5",
   "metadata": {},
   "outputs": [
    {
     "name": "stdout",
     "output_type": "stream",
     "text": [
      "seman koob fo tsiL\n"
     ]
    }
   ],
   "source": [
    "s = \"List of book names\"\n",
    "strrev = s[::-1]\n",
    "print(strrev)\n"
   ]
  },
  {
   "cell_type": "code",
   "execution_count": null,
   "id": "b5162759",
   "metadata": {},
   "outputs": [],
   "source": [
    "def vcount(s):\n",
    "    s = 'aeiouAEIOU'\n",
    "    v_count = 0\n",
    "    c_count = 0\n",
    "    for i in s:\n",
    "        if i in s:\n",
    "            v_count += 1\n",
    "        else:\n",
    "            c_count += 1\n",
    "    return v_count,c_count\n",
    "    print(\"Number of vowels:\", v_count(s))\n",
    "    print(\"Number of consonants:\", c_count(s))\n"
   ]
  },
  {
   "cell_type": "code",
   "execution_count": null,
   "id": "b0cffa9d",
   "metadata": {},
   "outputs": [],
   "source": [
    "def armstrong(n):\n",
    "    sum = 0\n",
    "    temp = n\n",
    "    while temp > 0:\n",
    "        digit = temp % 10\n",
    "        sum += digit ** 3\n",
    "        temp //= 10\n",
    "    if n == sum:\n",
    "        print(n, \"is an Armstrong number\")\n",
    "    else:\n",
    "        print(n, \"is not an Armstrong number\")"
   ]
  },
  {
   "cell_type": "code",
   "execution_count": null,
   "id": "4ea849d0",
   "metadata": {},
   "outputs": [],
   "source": [
    "def m_table(n):\n",
    "    for i in range(1,11):\n",
    "        print(n,'x',i,'=',n*i)\n",
    "    n = int(input(\"Enter a number\"))\n",
    "    m_table(n)"
   ]
  },
  {
   "cell_type": "code",
   "execution_count": null,
   "id": "96b0ef47",
   "metadata": {},
   "outputs": [],
   "source": [
    "def l_year(n):\n",
    "    n = int(input(\"Enter a year\"))\n",
    "    if(n % 4 == 0 and n % 100 != 0) or (n % 400 ==0):\n",
    "        print(n,\"is a leap year\")\n",
    "    else:\n",
    "        print(n, \"is not a leap year\")\n",
    "    l_year(n)"
   ]
  },
  {
   "cell_type": "code",
   "execution_count": null,
   "id": "40c92619",
   "metadata": {},
   "outputs": [
    {
     "name": "stdout",
     "output_type": "stream",
     "text": [
      "Maximum value 3\n"
     ]
    }
   ],
   "source": [
    "nums = list(map(int,input(\"Enter number\").split()))\n",
    "print(\"Maximum value\", max(nums))"
   ]
  },
  {
   "cell_type": "code",
   "execution_count": null,
   "id": "4f1ce62e",
   "metadata": {},
   "outputs": [],
   "source": [
    "def palindrome(s):\n",
    "    s = int(input(\"Enter a String\"))\n",
    "    rev = s[::-1]\n",
    "    if s == rev:\n",
    "        print(s,\"is a palindrome\")\n",
    "    else:\n",
    "        print(s, \"is not a palindrome\")\n",
    "    palindrome(s)\n"
   ]
  },
  {
   "cell_type": "code",
   "execution_count": null,
   "id": "b50027b4",
   "metadata": {},
   "outputs": [],
   "source": [
    "def factorial(n):\n",
    "    n = int(input())\n",
    "    if n == 0:\n",
    "        return 1\n",
    "    else:\n",
    "        return n * factorial(n-1)\n",
    "print(factorial(n))\n"
   ]
  },
  {
   "cell_type": "code",
   "execution_count": null,
   "id": "a3ca2f33",
   "metadata": {},
   "outputs": [],
   "source": [
    "for i in range(1,101):\n",
    "    if n % 3 == 0 and n % 5 == 0:\n",
    "        print(i)"
   ]
  },
  {
   "cell_type": "code",
   "execution_count": null,
   "id": "f9196f17",
   "metadata": {},
   "outputs": [],
   "source": [
    "def is_prime(num):\n",
    "    if num <= 1:\n",
    "        return False\n",
    "    for i in range(2,int(num**0.5)+1):\n",
    "        if num %i == 0:\n",
    "            return False\n",
    "        return True\n",
    "    num = int(input(\"Enter a number\"))\n",
    "    if is_prime(num):\n",
    "        print(num, \"is prime\")\n",
    "    else:\n",
    "        print(num,\"is not prime\")\n",
    "\n"
   ]
  },
  {
   "cell_type": "code",
   "execution_count": null,
   "id": "915bc277",
   "metadata": {},
   "outputs": [
    {
     "name": "stdout",
     "output_type": "stream",
     "text": [
      "There is no second largest number\n"
     ]
    }
   ],
   "source": [
    "nums = list(map(int,input(\"Enter numbers\").split()))\n",
    "uniq_num = list(set(nums))\n",
    "if len(uniq_num) < 2:\n",
    "    print(\"There is no second largest number\")\n",
    "else:\n",
    "    uniq_num.sort()\n",
    "    print(\"The second largest number is:\", uniq_num[-2])\n",
    "\n"
   ]
  },
  {
   "cell_type": "code",
   "execution_count": null,
   "id": "2efe0ef4",
   "metadata": {},
   "outputs": [
    {
     "name": "stdout",
     "output_type": "stream",
     "text": [
      "0\n",
      "2\n",
      "2\n",
      "6\n",
      "6\n",
      "12\n",
      "12\n",
      "20\n",
      "20\n",
      "30\n",
      "30\n",
      "42\n",
      "42\n",
      "56\n",
      "56\n",
      "72\n",
      "72\n",
      "90\n",
      "90\n",
      "110\n",
      "110\n",
      "132\n",
      "132\n",
      "156\n",
      "156\n",
      "182\n",
      "182\n",
      "210\n",
      "210\n",
      "240\n",
      "240\n",
      "272\n",
      "272\n",
      "306\n",
      "306\n",
      "342\n",
      "342\n",
      "380\n",
      "380\n",
      "420\n",
      "420\n",
      "462\n",
      "462\n",
      "506\n",
      "506\n",
      "552\n",
      "552\n",
      "600\n",
      "600\n",
      "650\n"
     ]
    }
   ],
   "source": [
    "total = 0\n",
    "for i in range(1,51):\n",
    "    if i % 2 == 0:\n",
    "        total += i\n",
    "    print(total)"
   ]
  },
  {
   "cell_type": "code",
   "execution_count": null,
   "id": "f2217e7d",
   "metadata": {},
   "outputs": [
    {
     "name": "stdout",
     "output_type": "stream",
     "text": [
      "Number of uppercase letters: 0\n",
      "Number of lowercase letters: 0\n"
     ]
    }
   ],
   "source": [
    "s = input()\n",
    "u_count = 0\n",
    "l_count = 0\n",
    "for char in s:\n",
    "    if char.isupper():\n",
    "        u_count+=1\n",
    "    else:\n",
    "        l_count+=1\n",
    "print(\"Number of uppercase letters:\", u_count)\n",
    "print(\"Number of lowercase letters:\", l_count)"
   ]
  },
  {
   "cell_type": "code",
   "execution_count": null,
   "id": "7d640001",
   "metadata": {},
   "outputs": [
    {
     "name": "stdout",
     "output_type": "stream",
     "text": [
      "0\n",
      "1\n",
      "1\n",
      "2\n",
      "3\n"
     ]
    }
   ],
   "source": [
    "def fibonacci(n):\n",
    "  if n <=1:\n",
    "    return n\n",
    "  else:\n",
    "    return fibonacci(n-1) + fibonacci(n-2)\n",
    "n = int(input(\"Enter a number\"))\n",
    "for i in range(n):\n",
    "  print(fibonacci(i))\n",
    "\n",
    "\n"
   ]
  },
  {
   "cell_type": "code",
   "execution_count": null,
   "id": "c134bc83",
   "metadata": {},
   "outputs": [],
   "source": [
    "def anagram():\n",
    "    s = input()\n",
    "    t = input()\n",
    "    if sorted(s) == sorted(t):\n",
    "        print(\"Anagrams\")\n",
    "    else:\n",
    "        print(\"Not Anagrams\")\n",
    "anagram()\n",
    "    "
   ]
  },
  {
   "cell_type": "code",
   "execution_count": 2,
   "id": "022d36c6",
   "metadata": {},
   "outputs": [
    {
     "name": "stdout",
     "output_type": "stream",
     "text": [
      "Not a Perfect Number\n"
     ]
    }
   ],
   "source": [
    "def perfect_num(n):\n",
    "    sum = 0\n",
    "    for i in range(1,n):\n",
    "        if n % i == 0:\n",
    "            sum+=i\n",
    "    if sum == n:\n",
    "        print(\"Perfect number\")\n",
    "    else:\n",
    "        print(\"Not a Perfect Number\")\n",
    "n = int(input(\"enter\"))\n",
    "perfect_num(n)\n",
    "        \n",
    "\n"
   ]
  },
  {
   "cell_type": "code",
   "execution_count": 4,
   "id": "5b82756e",
   "metadata": {},
   "outputs": [
    {
     "name": "stdout",
     "output_type": "stream",
     "text": [
      "C\n"
     ]
    }
   ],
   "source": [
    "def grade(n):\n",
    "    if n >= 90:\n",
    "        print(\"A\")\n",
    "    elif n >= 75:\n",
    "        print(\"B\")\n",
    "    elif n >= 50:\n",
    "        print(\"C\")\n",
    "    else:\n",
    "        print(\"Fail\")\n",
    "n = int(input(\"Enter marks\"))\n",
    "grade(n)\n",
    "\n"
   ]
  },
  {
   "cell_type": "code",
   "execution_count": 6,
   "id": "6219d998",
   "metadata": {},
   "outputs": [
    {
     "name": "stdout",
     "output_type": "stream",
     "text": [
      "5\n",
      "7\n",
      "9\n",
      "11\n",
      "13\n",
      "15\n",
      "17\n",
      "19\n",
      "21\n",
      "23\n",
      "25\n",
      "27\n",
      "29\n",
      "31\n",
      "33\n",
      "35\n",
      "37\n",
      "39\n",
      "41\n",
      "43\n",
      "45\n",
      "47\n",
      "49\n",
      "51\n",
      "53\n",
      "55\n",
      "57\n",
      "59\n",
      "61\n",
      "63\n",
      "65\n",
      "67\n",
      "69\n",
      "71\n",
      "73\n",
      "75\n",
      "77\n",
      "79\n",
      "81\n",
      "83\n",
      "85\n",
      "87\n",
      "89\n",
      "91\n",
      "93\n",
      "95\n",
      "97\n",
      "99\n"
     ]
    }
   ],
   "source": [
    "def is_prime(num):\n",
    "    if num <= 1:\n",
    "        return False\n",
    "    for i in range(2,int(num**0.5)+1):\n",
    "        if num %i == 0:\n",
    "            return False\n",
    "        return True\n",
    "for i in range(1,101):\n",
    "    if is_prime(i):\n",
    "       print(i)\n",
    "\n"
   ]
  },
  {
   "cell_type": "code",
   "execution_count": 12,
   "id": "54ce7ac1",
   "metadata": {},
   "outputs": [],
   "source": [
    "def word_count(text):\n",
    "    count = 0\n",
    "    in_word = False\n",
    "    for char in text:\n",
    "        if char != \" \" and not in_word:\n",
    "                count += 1\n",
    "                in_word = True\n",
    "        else:\n",
    "            in_word = False\n",
    "    return count\n",
    "text = input(\"Enter Text\")\n"
   ]
  },
  {
   "cell_type": "code",
   "execution_count": null,
   "id": "2c6d22d9",
   "metadata": {},
   "outputs": [
    {
     "name": "stdout",
     "output_type": "stream",
     "text": [
      "Final Price :{final_price:.2f}\n"
     ]
    }
   ],
   "source": [
    "price = float(input(\"Enter ticket price:\"))\n",
    "age = int(input(\"Enter Age:\"))\n",
    "student = input(\"Are you a student? (yes/no):\").strip().lower()\n",
    "if student == \"yes\":\n",
    "    discount = 0.20\n",
    "elif age >= 60:\n",
    "    discount = 0.10\n",
    "else:\n",
    "    dicount = 0.00\n",
    "final_price = price - (price*discount)\n",
    "print(f\"Final Price :{final_price:.2f}\")"
   ]
  },
  {
   "cell_type": "code",
   "execution_count": 19,
   "id": "a51556b8",
   "metadata": {},
   "outputs": [
    {
     "name": "stdout",
     "output_type": "stream",
     "text": [
      "Total value :150\n"
     ]
    }
   ],
   "source": [
    "total = int(input())\n",
    "if total > 500:\n",
    "    print(\"Free Delivery\")\n",
    "elif total <= 500:\n",
    "    total = total + 50\n",
    "    print(f\"Total value :{total}\")\n",
    "\n",
    "\n"
   ]
  },
  {
   "cell_type": "code",
   "execution_count": 23,
   "id": "5aebb07d",
   "metadata": {},
   "outputs": [
    {
     "name": "stdout",
     "output_type": "stream",
     "text": [
      "Fail\n"
     ]
    }
   ],
   "source": [
    "n = int(input(\"Enter marks\"))\n",
    "if n>=90 and n<=100:\n",
    "    print(\"A\")\n",
    "elif n>=75 and n<=89:\n",
    "    print(\"B\")\n",
    "elif n>=50 and n<=74:\n",
    "    print(\"C\")\n",
    "else:\n",
    "    print(\"Fail\")\n"
   ]
  },
  {
   "cell_type": "code",
   "execution_count": 24,
   "id": "8760c42f",
   "metadata": {},
   "outputs": [
    {
     "name": "stdout",
     "output_type": "stream",
     "text": [
      "Tip : 50.0\n",
      "Total: 550.0\n"
     ]
    }
   ],
   "source": [
    "bill = float(input(\"Enter the total bill\"))\n",
    "if bill < 500:\n",
    "    tip = bill * 0.05\n",
    "elif 500<=bill<=1000:\n",
    "    tip = bill *0.1\n",
    "else:\n",
    "    tip = bill * 0.15\n",
    "total = bill + tip\n",
    "print(\"Tip :\",tip)\n",
    "print(\"Total:\", total) "
   ]
  },
  {
   "cell_type": "code",
   "execution_count": 27,
   "id": "c074b583",
   "metadata": {},
   "outputs": [
    {
     "name": "stdout",
     "output_type": "stream",
     "text": [
      "Costly month:2500\n",
      "cost for 6 months:2500\n",
      "cost for 12 months:2500\n",
      "Cheapest option:2500\n"
     ]
    }
   ],
   "source": [
    "month = int(input(\"Enter the number of months:\"))\n",
    "costly = month*500\n",
    "cost_6_month = ((month//6)*2700)+((month%6)*500)\n",
    "cost_12_month = ((month//12)*5000)+((month//6)*2700)+((month%6)*500)\n",
    "cheapest = min(costly,cost_6_month,cost_12_month)\n",
    "print(f\"Costly month:{costly}\")\n",
    "print(f\"cost for 6 months:{cost_6_month}\")\n",
    "print(f\"cost for 12 months:{cost_12_month}\")\n",
    "print(f\"Cheapest option:{cheapest}\")\n"
   ]
  },
  {
   "cell_type": "code",
   "execution_count": 30,
   "id": "e4c80dbb",
   "metadata": {},
   "outputs": [
    {
     "name": "stdout",
     "output_type": "stream",
     "text": [
      "Attendance percentage:51.11-You are not allowed to sit for the exam.\n"
     ]
    }
   ],
   "source": [
    "total_classes = int(input(\"Enter the total number of classes\"))\n",
    "attended_classes = int(input(\"Enter the number of attended classes\"))\n",
    "attendance_percentage = (attended_classes / total_classes) * 100\n",
    "if attendance_percentage >= 75:\n",
    "    print(f\"Attendance percentage:{attendance_percentage:.2f}-You are allowed to sit for the exam.\")\n",
    "else:\n",
    "    print(f\"Attendance percentage:{attendance_percentage:.2f}-You are not allowed to sit for the exam.\")\n"
   ]
  },
  {
   "cell_type": "code",
   "execution_count": 31,
   "id": "20d622d6",
   "metadata": {},
   "outputs": [
    {
     "name": "stdout",
     "output_type": "stream",
     "text": [
      "Transaction Failed\n"
     ]
    }
   ],
   "source": [
    "n = int(input(\"Enter the Amount\"))\n",
    "if n%100 ==0:\n",
    "    print(\"Transaction Success\")\n",
    "else:\n",
    "    print(\"Transaction Failed\")"
   ]
  },
  {
   "cell_type": "code",
   "execution_count": 32,
   "id": "52799497",
   "metadata": {},
   "outputs": [
    {
     "name": "stdout",
     "output_type": "stream",
     "text": [
      "Too hot, stay indoors!\n"
     ]
    }
   ],
   "source": [
    "n = int(input(\"Enter the temperature\"))\n",
    "if n > 35:\n",
    "    print(\"Too hot, stay indoors!\")\n",
    "elif n >= 20 and n<=35:\n",
    "    print(\"It's cold,wear warm clothes!\")\n",
    "else:\n",
    "    print(\"It's cold,wear warm clothes!\")"
   ]
  },
  {
   "cell_type": "code",
   "execution_count": 36,
   "id": "477035c5",
   "metadata": {},
   "outputs": [
    {
     "name": "stdout",
     "output_type": "stream",
     "text": [
      "Total: 510\n"
     ]
    }
   ],
   "source": [
    "total = int(input(\"Enter the total amount\"))\n",
    "n = int(input(\"Enter the late days\"))\n",
    "if n >= 1 and n<=5:\n",
    "    total = total + 10\n",
    "elif n>=6 and n<=10:\n",
    "    total = total+50\n",
    "elif n >10:\n",
    "    total = total + 100\n",
    "else:\n",
    "    print(\"No fine\")\n",
    "print(\"Total:\", total)\n"
   ]
  },
  {
   "cell_type": "code",
   "execution_count": 38,
   "id": "e4bd6047",
   "metadata": {},
   "outputs": [
    {
     "name": "stdout",
     "output_type": "stream",
     "text": [
      "Total bill:4200\n"
     ]
    }
   ],
   "source": [
    "w = int(input(\"Enter the units\"))\n",
    "if w <= 100:\n",
    "    bill = w *5\n",
    "elif w<=200:\n",
    "    bill = (100*5) + (w - 100)*7\n",
    "elif w>200:\n",
    "    bill = (100*5) + (100*7) + (w - 200)*10\n",
    "print(f\"Total bill:{bill}\")\n",
    "    "
   ]
  },
  {
   "cell_type": "code",
   "execution_count": 3,
   "id": "c0c27ddc",
   "metadata": {},
   "outputs": [
    {
     "name": "stdout",
     "output_type": "stream",
     "text": [
      "Addition: 30\n",
      "Subtraction: -10\n",
      "Multiplication: 200\n",
      "Division: 0.5\n",
      "Modulus: 10\n"
     ]
    }
   ],
   "source": [
    "def calculator():\n",
    "    a = int(input(\"Enter first number:\"))\n",
    "    b = int(input(\"Enter second number\"))\n",
    "    print(\"Addition:\", a+b)\n",
    "    print(\"Subtraction:\", a-b)\n",
    "    print(\"Multiplication:\", a*b)\n",
    "    print(\"Division:\", a/b)\n",
    "    print(\"Modulus:\", a%b)\n",
    "calculator()\n"
   ]
  },
  {
   "cell_type": "code",
   "execution_count": 4,
   "id": "812591e1",
   "metadata": {},
   "outputs": [
    {
     "name": "stdout",
     "output_type": "stream",
     "text": [
      "A\n"
     ]
    }
   ],
   "source": [
    "def grade():\n",
    "    n = int(input(\"Enter marks\"))\n",
    "    if n>=90:\n",
    "        print(\"A+\")\n",
    "    elif 80<=n<=89:\n",
    "        print(\"A\")\n",
    "    elif 70<=n<=79:\n",
    "        print(\"B\")\n",
    "    elif 60<=n<=69:\n",
    "        print(\"C\")\n",
    "    else:\n",
    "        print(\"Fail\")\n",
    "grade()\n"
   ]
  },
  {
   "cell_type": "code",
   "execution_count": 19,
   "id": "00c4961b",
   "metadata": {},
   "outputs": [
    {
     "name": "stdout",
     "output_type": "stream",
     "text": [
      "Highest Marks= 90\n",
      "Lowest Marks= 45\n",
      "Average Marks= 71.4\n"
     ]
    }
   ],
   "source": [
    "\n",
    "my_list = [45,78,88,56,90]\n",
    "High = max(my_list)\n",
    "print(\"Highest Marks=\",High)\n",
    "Low = min(my_list)\n",
    "print(\"Lowest Marks=\",Low)\n",
    "Avg = sum(my_list)/len(my_list)\n",
    "print(\"Average Marks=\",Avg)\n"
   ]
  },
  {
   "cell_type": "code",
   "execution_count": 24,
   "id": "71662ea4",
   "metadata": {},
   "outputs": [
    {
     "name": "stdout",
     "output_type": "stream",
     "text": [
      "Search name: Ravi\n",
      "Phone Number: 9123456780\n"
     ]
    }
   ],
   "source": [
    "phonebook={\"Suhel\": 9876543210, \"Ravi\": 9123456780, \"Anita\": 9988776655}\n",
    "name = input()\n",
    "print(\"Search name:\",name)\n",
    "if name in phonebook:\n",
    "    print(\"Phone Number:\", phonebook[name])\n",
    "else:\n",
    "    print(\"Name not found.\")\n"
   ]
  },
  {
   "cell_type": "code",
   "execution_count": null,
   "id": "591f1d3f",
   "metadata": {},
   "outputs": [
    {
     "name": "stdout",
     "output_type": "stream",
     "text": [
      "295\n"
     ]
    }
   ],
   "source": [
    "p1 = int(input(\"Enter item1 price:\"))\n",
    "q1 = int(input(\"Enter item1 quantity:\"))\n",
    "p2 = int(input(\"Enter item2 price:\"))\n",
    "q2 = int(input(\"Enter item2 quantity:\"))\n",
    "p3 = int(input(\"Enter item3 price:\"))\n",
    "q3 = int(input(\"Enter item3 quantity:\"))\n",
    "Total_Bill = p1*q1 + p2*q2 + p3*q3\n",
    "print(\"Total Bill:\", Total_Bill)\n",
    "\n"
   ]
  },
  {
   "cell_type": "code",
   "execution_count": 32,
   "id": "6dedc331",
   "metadata": {},
   "outputs": [
    {
     "name": "stdout",
     "output_type": "stream",
     "text": [
      "Number of vowels: 3\n",
      "Number of consonants: 4\n",
      "Number of words: 1\n"
     ]
    }
   ],
   "source": [
    "w_count = 0\n",
    "c_count = 0\n",
    "v_count = 0\n",
    "s = input()\n",
    "for i in s:\n",
    "    if i in 'aeiouAEIOU':\n",
    "        v_count += 1\n",
    "    elif i.isalpha():\n",
    "        c_count += 1\n",
    "    elif i.isspace():\n",
    "        w_count += 1\n",
    "print(\"Number of vowels:\",v_count)\n",
    "print(\"Number of consonants:\",c_count)\n",
    "print(\"Number of words:\",w_count)"
   ]
  },
  {
   "cell_type": "code",
   "execution_count": 34,
   "id": "093cc599",
   "metadata": {},
   "outputs": [
    {
     "name": "stdout",
     "output_type": "stream",
     "text": [
      "Compound Interest: 512.5\n"
     ]
    }
   ],
   "source": [
    "p = int(input())\n",
    "r = float(input())\n",
    "t = int(input())\n",
    "Interest_Type=input()\n",
    "if Interest_Type == \"SimpleInterest\":\n",
    "    SI = (p * r * t) / 100\n",
    "    print(\"Simple Interest:\", SI)\n",
    "else:\n",
    "    CI = p * (1 + r / 100) ** t - p\n",
    "    print(\"Compound Interest:\", CI)\n"
   ]
  },
  {
   "cell_type": "code",
   "execution_count": 44,
   "id": "8fc887d7",
   "metadata": {},
   "outputs": [
    {
     "name": "stdout",
     "output_type": "stream",
     "text": [
      "Encrypted message: KHOOR\n"
     ]
    }
   ],
   "source": [
    "message = input(\"Enter a message\").upper()\n",
    "shift_value = int(input(\"Enter the shift value:\"))\n",
    "encrypted_message = \"\"\n",
    "for char in message:\n",
    "    if char.isalpha():\n",
    "        encrypted_message += chr((ord(char)-65 + shift_value)%26+65)\n",
    "    else:\n",
    "        encrypted_message += char\n",
    "print(\"Encrypted message:\", encrypted_message)\n",
    "\n",
    "\n",
    "\n"
   ]
  },
  {
   "cell_type": "code",
   "execution_count": 35,
   "id": "0d84a0b2",
   "metadata": {},
   "outputs": [
    {
     "name": "stdout",
     "output_type": "stream",
     "text": [
      "PIN Verified\n",
      "Withdrawal Successful\n",
      "Remaining Balance= 3000\n"
     ]
    }
   ],
   "source": [
    "p = int(input())\n",
    "b = int(input())\n",
    "w = int(input())\n",
    "print(\"PIN Verified\")\n",
    "if b >=w:\n",
    "    print(\"Withdrawal Successful\")\n",
    "    print(\"Remaining Balance=\",b-w)\n",
    "else:\n",
    "    print(\"Insufficient Balance\")\n"
   ]
  },
  {
   "cell_type": "code",
   "execution_count": 40,
   "id": "aba669b0",
   "metadata": {},
   "outputs": [
    {
     "name": "stdout",
     "output_type": "stream",
     "text": [
      "Current Books: ['Python Basics', 'AI Fundamentals', 'Machine Learning']\n",
      "Total Books: 3\n"
     ]
    }
   ],
   "source": [
    "Books = [\"Python Basics\", \"Data Science\", \"AI Fundamentals\"]\n",
    "Books.append(\"Machine Learning\")\n",
    "Books.remove(\"Data Science\")\n",
    "print(\"Current Books:\", Books)\n",
    "print(\"Total Books:\", len(Books))\n",
    "\n",
    "\n",
    "\n",
    "\n",
    "\n"
   ]
  }
 ],
 "metadata": {
  "kernelspec": {
   "display_name": "Python 3",
   "language": "python",
   "name": "python3"
  },
  "language_info": {
   "codemirror_mode": {
    "name": "ipython",
    "version": 3
   },
   "file_extension": ".py",
   "mimetype": "text/x-python",
   "name": "python",
   "nbconvert_exporter": "python",
   "pygments_lexer": "ipython3",
   "version": "3.11.13"
  }
 },
 "nbformat": 4,
 "nbformat_minor": 5
}

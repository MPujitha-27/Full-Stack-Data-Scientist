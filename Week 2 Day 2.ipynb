{
 "cells": [
  {
   "cell_type": "code",
   "execution_count": 10,
   "id": "fba513c2",
   "metadata": {},
   "outputs": [
    {
     "name": "stdout",
     "output_type": "stream",
     "text": [
      "Password is valid\n"
     ]
    }
   ],
   "source": [
    "def password():\n",
    "    s = input()\n",
    "    if len(s) < 8:\n",
    "        print(\"Password is too short\")\n",
    "    else:\n",
    "        if s.isalnum():\n",
    "            print(\"Password should contain at least one special character\")\n",
    "        else:\n",
    "            print(\"Password is valid\")\n",
    "password()"
   ]
  },
  {
   "cell_type": "code",
   "execution_count": 15,
   "id": "11dccc06",
   "metadata": {},
   "outputs": [
    {
     "name": "stdout",
     "output_type": "stream",
     "text": [
      "5\n"
     ]
    }
   ],
   "source": [
    "def calculator():\n",
    "    a = int(input())\n",
    "    b = int(input())\n",
    "    op = input()\n",
    "    switcher = {\n",
    "        '+': a + b,\n",
    "        '-': a - b,\n",
    "        '*': a * b,\n",
    "        '/': a / b\n",
    "    }\n",
    "    print(switcher.get(op, \"Invalid operator\"))\n",
    "calculator()\n",
    "\n",
    "    "
   ]
  },
  {
   "cell_type": "code",
   "execution_count": 19,
   "id": "af96c203",
   "metadata": {},
   "outputs": [
    {
     "name": "stdout",
     "output_type": "stream",
     "text": [
      "['nani']\n"
     ]
    }
   ],
   "source": [
    "def duplicates(lst):\n",
    "    return list(set([x for x in lst if lst.count(x)>1]))\n",
    "print(duplicates([\"vikram\",\"nani\",\"nani\"]))\n",
    "\n",
    "\n",
    "\n"
   ]
  },
  {
   "cell_type": "code",
   "execution_count": 20,
   "id": "25881d4c",
   "metadata": {},
   "outputs": [
    {
     "name": "stdout",
     "output_type": "stream",
     "text": [
      "98.6\n"
     ]
    }
   ],
   "source": [
    "def celsiustofahrenheit(c):\n",
    "    return (c * 9/5) + 32\n",
    "c = int(input())\n",
    "print(celsiustofahrenheit(c))"
   ]
  },
  {
   "cell_type": "code",
   "execution_count": 21,
   "id": "7a891417",
   "metadata": {},
   "outputs": [
    {
     "data": {
      "text/plain": [
       "'5'"
      ]
     },
     "execution_count": 21,
     "metadata": {},
     "output_type": "execute_result"
    }
   ],
   "source": [
    "def largestnum(lst):\n",
    "    return max(lst)\n",
    "lst = input().split()\n",
    "largestnum(lst)"
   ]
  },
  {
   "cell_type": "code",
   "execution_count": 29,
   "id": "6fa4ff16",
   "metadata": {},
   "outputs": [
    {
     "data": {
      "text/plain": [
       "'Not Allowed as Attendance is less than 75%'"
      ]
     },
     "execution_count": 29,
     "metadata": {},
     "output_type": "execute_result"
    }
   ],
   "source": [
    "def Student(name,attendance):\n",
    "    student ={\n",
    "        \"name\": name,\n",
    "        \"attendance\": attendance\n",
    "      }\n",
    "    if student[\"attendance\"] >= 75:\n",
    "        return \"Allowed\"\n",
    "    else:\n",
    "        return \"Not Allowed as Attendance is less than 75%\"\n",
    "name = input()\n",
    "attendance = int(input())\n",
    "Student(name,attendance)"
   ]
  },
  {
   "cell_type": "code",
   "execution_count": 82,
   "id": "4363adae",
   "metadata": {},
   "outputs": [
    {
     "name": "stdout",
     "output_type": "stream",
     "text": [
      "10\n"
     ]
    }
   ],
   "source": [
    "num = int(input())\n",
    "def sumofdigits(num):\n",
    "    total = 0\n",
    "    while num > 0:\n",
    "        digit = num%10\n",
    "        total += digit\n",
    "        num //=10\n",
    "    return total\n",
    "print(sumofdigits(num))\n"
   ]
  },
  {
   "cell_type": "code",
   "execution_count": 83,
   "id": "566ec0ad",
   "metadata": {},
   "outputs": [
    {
     "name": "stdout",
     "output_type": "stream",
     "text": [
      "5 is prime\n"
     ]
    }
   ],
   "source": [
    "def is_prime(n):\n",
    "    if n <= 1:\n",
    "        return False\n",
    "    for i in range(2, int(n**0.5) + 1):\n",
    "        if n % i == 0:\n",
    "            return False\n",
    "    return True\n",
    "n = int(input())\n",
    "if is_prime(n):\n",
    "    print(f\"{n} is prime\")\n",
    "else:\n",
    "    print(f\"{n} is not prime\")\n"
   ]
  },
  {
   "cell_type": "code",
   "execution_count": 85,
   "id": "916b1d4d",
   "metadata": {},
   "outputs": [
    {
     "name": "stdout",
     "output_type": "stream",
     "text": [
      "Largest number is: 4\n",
      "Smallest number is: 1\n"
     ]
    }
   ],
   "source": [
    "lst = input().split()\n",
    "print(\"Largest number is:\",max(lst))\n",
    "print(\"Smallest number is:\",min(lst))\n"
   ]
  },
  {
   "cell_type": "code",
   "execution_count": 93,
   "id": "72faafd4",
   "metadata": {},
   "outputs": [
    {
     "name": "stdout",
     "output_type": "stream",
     "text": [
      "300\n"
     ]
    }
   ],
   "source": [
    "items = {\n",
    "    \"car\": 100,\n",
    "    \"bike\": 200\n",
    "}\n",
    "for i,j in items.items():\n",
    "    total +=j\n",
    "print(total)\n"
   ]
  },
  {
   "cell_type": "code",
   "execution_count": 89,
   "id": "2c9d1467",
   "metadata": {},
   "outputs": [
    {
     "name": "stdout",
     "output_type": "stream",
     "text": [
      "7\n"
     ]
    }
   ],
   "source": [
    "a = int(input())\n",
    "b = int(input())\n",
    "c = int(input())\n",
    "def largest(a,b,c):\n",
    "    return max(a,b,c)\n",
    "print(largest(a,b,c))"
   ]
  },
  {
   "cell_type": "code",
   "execution_count": 91,
   "id": "8802df3c",
   "metadata": {},
   "outputs": [
    {
     "data": {
      "text/plain": [
       "{'h': 1, 'e': 1, 'l': 2, 'o': 1}"
      ]
     },
     "execution_count": 91,
     "metadata": {},
     "output_type": "execute_result"
    }
   ],
   "source": [
    "def charfrequency(s):\n",
    "    freq = {}\n",
    "    for char in s:\n",
    "        if char in freq:\n",
    "            freq[char] += 1\n",
    "        else:\n",
    "            freq[char] = 1\n",
    "    return freq\n",
    "s = input()\n",
    "charfrequency(s)\n"
   ]
  },
  {
   "cell_type": "code",
   "execution_count": 120,
   "id": "4747a813",
   "metadata": {},
   "outputs": [
    {
     "data": {
      "text/plain": [
       "850"
      ]
     },
     "execution_count": 120,
     "metadata": {},
     "output_type": "execute_result"
    }
   ],
   "source": [
    "def electricity_bill():\n",
    "    if n == 100:\n",
    "        bill = 5 * 100\n",
    "        return bill\n",
    "    elif n > 100 and n <= 200:\n",
    "        bill = 5 * 100 + 7 * (n-100)\n",
    "        return bill\n",
    "    elif n > 200:\n",
    "        bill = 10 * n\n",
    "        return bill\n",
    "    else:\n",
    "        None\n",
    "n = int(input())\n",
    "electricity_bill()\n"
   ]
  },
  {
   "cell_type": "code",
   "execution_count": 97,
   "id": "f55a2b23",
   "metadata": {},
   "outputs": [
    {
     "name": "stdout",
     "output_type": "stream",
     "text": [
      "['Apple', 'banana', 'grapes', 'orange']\n"
     ]
    }
   ],
   "source": [
    "lst = [\"Apple\",\"banana\",\"orange\",\"grapes\"]\n",
    "lst.sort()\n",
    "print(lst)\n"
   ]
  },
  {
   "cell_type": "code",
   "execution_count": 100,
   "id": "89bf3649",
   "metadata": {},
   "outputs": [
    {
     "name": "stdout",
     "output_type": "stream",
     "text": [
      "4321\n"
     ]
    }
   ],
   "source": [
    "s = input()\n",
    "print(s[::-1])\n"
   ]
  },
  {
   "cell_type": "code",
   "execution_count": 103,
   "id": "83a9eca2",
   "metadata": {},
   "outputs": [
    {
     "name": "stdout",
     "output_type": "stream",
     "text": [
      "Positive numbers: 2\n",
      "Negative numbers: 1\n",
      "Zeros: 1\n"
     ]
    }
   ],
   "source": [
    "num = list(map(int,input().split()))\n",
    "count_p = 0\n",
    "count_n = 0\n",
    "count_z = 0\n",
    "for n in num:\n",
    "    if n > 0:\n",
    "        count_p += 1\n",
    "    elif n == 0:\n",
    "        count_z += 1\n",
    "    elif n < 0:\n",
    "        count_n += 1\n",
    "    else:\n",
    "        None\n",
    "print(\"Positive numbers:\", count_p)\n",
    "print(\"Negative numbers:\", count_n)\n",
    "print(\"Zeros:\", count_z)\n",
    "\n",
    "\n",
    "\n"
   ]
  },
  {
   "cell_type": "code",
   "execution_count": 106,
   "id": "31034250",
   "metadata": {},
   "outputs": [
    {
     "name": "stdout",
     "output_type": "stream",
     "text": [
      "Access Denied  You are left with2\n",
      "Access Denied  You are left with1\n",
      "Access Denied  You are left with0\n"
     ]
    }
   ],
   "source": [
    "correct_pin = \"1234\"\n",
    "attempts = 3\n",
    "while attempts > 0:\n",
    "    entered_pin = input()\n",
    "    if entered_pin == correct_pin:\n",
    "        print(\"Access Granted\")\n",
    "    else:\n",
    "        attempts -= 1\n",
    "        print(f\"Access Denied  You are left with {attempts} attempts\")\n",
    "\n",
    "\n",
    "\n"
   ]
  },
  {
   "cell_type": "code",
   "execution_count": 107,
   "id": "d8c54bd7",
   "metadata": {},
   "outputs": [
    {
     "name": "stdout",
     "output_type": "stream",
     "text": [
      "Error: Division by zero is not allowed.\n"
     ]
    }
   ],
   "source": [
    "n = int(input())\n",
    "m = int(input())\n",
    "try:\n",
    "    result = n/m\n",
    "    print(\"Result is:\", result)\n",
    "except ZeroDivisionError:\n",
    "    print(\"Error: Division by zero is not allowed.\")\n"
   ]
  },
  {
   "cell_type": "code",
   "execution_count": 117,
   "id": "aa8869dc",
   "metadata": {},
   "outputs": [
    {
     "name": "stdout",
     "output_type": "stream",
     "text": [
      "Error: Division by zero is not allowed.\n",
      "Executed\n"
     ]
    }
   ],
   "source": [
    "n = int(input(\"Enter the numerator:\"))\n",
    "m = int(input(\"Enter the denominator:\"))\n",
    "try:\n",
    "    result = n/m\n",
    "    print(\"result is:\", result)\n",
    "except ZeroDivisionError:\n",
    "    print(\"Error: Division by zero is not allowed.\")\n",
    "except ValueError:\n",
    "    print(\"Error: Invalid input. Please enter numeric values.\")\n",
    "finally:\n",
    "    print(\"Executed\")"
   ]
  },
  {
   "cell_type": "code",
   "execution_count": 119,
   "id": "c96d7336",
   "metadata": {},
   "outputs": [
    {
     "name": "stdout",
     "output_type": "stream",
     "text": [
      "Withdrawal successful: the balance amount is 500\n",
      "Transaction complete\n"
     ]
    }
   ],
   "source": [
    "withdrawal_amount = int(input())\n",
    "balance = 1000\n",
    "try:\n",
    "    if withdrawal_amount > balance:\n",
    "        raise Exception(\"Insufficient balance\")\n",
    "    else:\n",
    "        balance -= withdrawal_amount\n",
    "        print(f\"Withdrawal successful: the balance amount is {balance}\")\n",
    "except:\n",
    "    print(\"Error: Insufficient balance\")\n",
    "finally:\n",
    "    print(\"Transaction complete\")"
   ]
  },
  {
   "cell_type": "code",
   "execution_count": 128,
   "id": "88a60a9b",
   "metadata": {},
   "outputs": [
    {
     "name": "stdout",
     "output_type": "stream",
     "text": [
      "Electricity Bill: 850\n",
      "Bill processing finished\n"
     ]
    }
   ],
   "source": [
    "def electricity_bill(n):\n",
    "    if n <= 100:\n",
    "        bill = 5 * n\n",
    "    elif n <= 200:\n",
    "        bill = (100 *5)+ (n-100)*7\n",
    "    else:\n",
    "        bill = (100*5)+(100*7)+(n-200)*10\n",
    "    return bill\n",
    "try: \n",
    "    n = int(input())\n",
    "    if n < 0:\n",
    "        raise ValueError(\"Units cannot be negative\")\n",
    "    print(\"Electricity Bill:\", electricity_bill(n))\n",
    "except ValueError as e:\n",
    "    print(\"Invalid input:\", e)\n",
    "finally:\n",
    "    print(\"Bill processing finished\")\n",
    "\n"
   ]
  }
 ],
 "metadata": {
  "kernelspec": {
   "display_name": "Python 3",
   "language": "python",
   "name": "python3"
  },
  "language_info": {
   "codemirror_mode": {
    "name": "ipython",
    "version": 3
   },
   "file_extension": ".py",
   "mimetype": "text/x-python",
   "name": "python",
   "nbconvert_exporter": "python",
   "pygments_lexer": "ipython3",
   "version": "3.11.13"
  }
 },
 "nbformat": 4,
 "nbformat_minor": 5
}

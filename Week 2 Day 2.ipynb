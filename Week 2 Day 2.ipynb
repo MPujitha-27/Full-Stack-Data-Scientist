{
 "cells": [
  {
   "cell_type": "code",
   "execution_count": 10,
   "id": "fba513c2",
   "metadata": {},
   "outputs": [
    {
     "name": "stdout",
     "output_type": "stream",
     "text": [
      "Password is valid\n"
     ]
    }
   ],
   "source": [
    "def password():\n",
    "    s = input()\n",
    "    if len(s) < 8:\n",
    "        print(\"Password is too short\")\n",
    "    else:\n",
    "        if s.isalnum():\n",
    "            print(\"Password should contain at least one special character\")\n",
    "        else:\n",
    "            print(\"Password is valid\")\n",
    "password()"
   ]
  },
  {
   "cell_type": "code",
   "execution_count": 15,
   "id": "11dccc06",
   "metadata": {},
   "outputs": [
    {
     "name": "stdout",
     "output_type": "stream",
     "text": [
      "5\n"
     ]
    }
   ],
   "source": [
    "def calculator():\n",
    "    a = int(input())\n",
    "    b = int(input())\n",
    "    op = input()\n",
    "    switcher = {\n",
    "        '+': a + b,\n",
    "        '-': a - b,\n",
    "        '*': a * b,\n",
    "        '/': a / b\n",
    "    }\n",
    "    print(switcher.get(op, \"Invalid operator\"))\n",
    "calculator()\n",
    "\n",
    "    "
   ]
  },
  {
   "cell_type": "code",
   "execution_count": 19,
   "id": "af96c203",
   "metadata": {},
   "outputs": [
    {
     "name": "stdout",
     "output_type": "stream",
     "text": [
      "['nani']\n"
     ]
    }
   ],
   "source": [
    "def duplicates(lst):\n",
    "    return list(set([x for x in lst if lst.count(x)>1]))\n",
    "print(duplicates([\"vikram\",\"nani\",\"nani\"]))\n",
    "\n",
    "\n",
    "\n"
   ]
  },
  {
   "cell_type": "code",
   "execution_count": 20,
   "id": "25881d4c",
   "metadata": {},
   "outputs": [
    {
     "name": "stdout",
     "output_type": "stream",
     "text": [
      "98.6\n"
     ]
    }
   ],
   "source": [
    "def celsiustofahrenheit(c):\n",
    "    return (c * 9/5) + 32\n",
    "c = int(input())\n",
    "print(celsiustofahrenheit(c))"
   ]
  },
  {
   "cell_type": "code",
   "execution_count": 21,
   "id": "7a891417",
   "metadata": {},
   "outputs": [
    {
     "data": {
      "text/plain": [
       "'5'"
      ]
     },
     "execution_count": 21,
     "metadata": {},
     "output_type": "execute_result"
    }
   ],
   "source": [
    "def largestnum(lst):\n",
    "    return max(lst)\n",
    "lst = input().split()\n",
    "largestnum(lst)"
   ]
  },
  {
   "cell_type": "code",
   "execution_count": 29,
   "id": "6fa4ff16",
   "metadata": {},
   "outputs": [
    {
     "data": {
      "text/plain": [
       "'Not Allowed as Attendance is less than 75%'"
      ]
     },
     "execution_count": 29,
     "metadata": {},
     "output_type": "execute_result"
    }
   ],
   "source": [
    "def Student(name,attendance):\n",
    "    student ={\n",
    "        \"name\": name,\n",
    "        \"attendance\": attendance\n",
    "      }\n",
    "    if student[\"attendance\"] >= 75:\n",
    "        return \"Allowed\"\n",
    "    else:\n",
    "        return \"Not Allowed as Attendance is less than 75%\"\n",
    "name = input()\n",
    "attendance = int(input())\n",
    "Student(name,attendance)"
   ]
  },
  {
   "cell_type": "code",
   "execution_count": 82,
   "id": "4363adae",
   "metadata": {},
   "outputs": [
    {
     "name": "stdout",
     "output_type": "stream",
     "text": [
      "10\n"
     ]
    }
   ],
   "source": [
    "num = int(input())\n",
    "def sumofdigits(num):\n",
    "    total = 0\n",
    "    while num > 0:\n",
    "        digit = num%10\n",
    "        total += digit\n",
    "        num //=10\n",
    "    return total\n",
    "print(sumofdigits(num))\n"
   ]
  },
  {
   "cell_type": "code",
   "execution_count": 83,
   "id": "566ec0ad",
   "metadata": {},
   "outputs": [
    {
     "name": "stdout",
     "output_type": "stream",
     "text": [
      "5 is prime\n"
     ]
    }
   ],
   "source": [
    "def is_prime(n):\n",
    "    if n <= 1:\n",
    "        return False\n",
    "    for i in range(2, int(n**0.5) + 1):\n",
    "        if n % i == 0:\n",
    "            return False\n",
    "    return True\n",
    "n = int(input())\n",
    "if is_prime(n):\n",
    "    print(f\"{n} is prime\")\n",
    "else:\n",
    "    print(f\"{n} is not prime\")\n"
   ]
  },
  {
   "cell_type": "code",
   "execution_count": 85,
   "id": "916b1d4d",
   "metadata": {},
   "outputs": [
    {
     "name": "stdout",
     "output_type": "stream",
     "text": [
      "Largest number is: 4\n",
      "Smallest number is: 1\n"
     ]
    }
   ],
   "source": [
    "lst = input().split()\n",
    "print(\"Largest number is:\",max(lst))\n",
    "print(\"Smallest number is:\",min(lst))\n"
   ]
  },
  {
   "cell_type": "code",
   "execution_count": 93,
   "id": "72faafd4",
   "metadata": {},
   "outputs": [
    {
     "name": "stdout",
     "output_type": "stream",
     "text": [
      "300\n"
     ]
    }
   ],
   "source": [
    "items = {\n",
    "    \"car\": 100,\n",
    "    \"bike\": 200\n",
    "}\n",
    "for i,j in items.items():\n",
    "    total +=j\n",
    "print(total)\n"
   ]
  },
  {
   "cell_type": "code",
   "execution_count": 89,
   "id": "2c9d1467",
   "metadata": {},
   "outputs": [
    {
     "name": "stdout",
     "output_type": "stream",
     "text": [
      "7\n"
     ]
    }
   ],
   "source": [
    "a = int(input())\n",
    "b = int(input())\n",
    "c = int(input())\n",
    "def largest(a,b,c):\n",
    "    return max(a,b,c)\n",
    "print(largest(a,b,c))"
   ]
  },
  {
   "cell_type": "code",
   "execution_count": 91,
   "id": "8802df3c",
   "metadata": {},
   "outputs": [
    {
     "data": {
      "text/plain": [
       "{'h': 1, 'e': 1, 'l': 2, 'o': 1}"
      ]
     },
     "execution_count": 91,
     "metadata": {},
     "output_type": "execute_result"
    }
   ],
   "source": [
    "def charfrequency(s):\n",
    "    freq = {}\n",
    "    for char in s:\n",
    "        if char in freq:\n",
    "            freq[char] += 1\n",
    "        else:\n",
    "            freq[char] = 1\n",
    "    return freq\n",
    "s = input()\n",
    "charfrequency(s)\n"
   ]
  },
  {
   "cell_type": "code",
   "execution_count": 96,
   "id": "4747a813",
   "metadata": {},
   "outputs": [
    {
     "data": {
      "text/plain": [
       "5.0"
      ]
     },
     "execution_count": 96,
     "metadata": {},
     "output_type": "execute_result"
    }
   ],
   "source": [
    "def electricity_bill():\n",
    "    if n == 100:\n",
    "        bill = 0.05 * n\n",
    "        return bill\n",
    "    elif n > 100 and n <= 200:\n",
    "        bill = 0.05 * 100 + 0.07 * (n-100)\n",
    "        return bill\n",
    "    elif n > 200:\n",
    "        bill = 0.1 * n\n",
    "        return bill\n",
    "    else:\n",
    "        None\n",
    "n = int(input())\n",
    "electricity_bill()\n"
   ]
  },
  {
   "cell_type": "code",
   "execution_count": 97,
   "id": "f55a2b23",
   "metadata": {},
   "outputs": [
    {
     "name": "stdout",
     "output_type": "stream",
     "text": [
      "['Apple', 'banana', 'grapes', 'orange']\n"
     ]
    }
   ],
   "source": [
    "lst = [\"Apple\",\"banana\",\"orange\",\"grapes\"]\n",
    "lst.sort()\n",
    "print(lst)\n"
   ]
  },
  {
   "cell_type": "code",
   "execution_count": 100,
   "id": "89bf3649",
   "metadata": {},
   "outputs": [
    {
     "name": "stdout",
     "output_type": "stream",
     "text": [
      "4321\n"
     ]
    }
   ],
   "source": [
    "s = input()\n",
    "print(s[::-1])\n"
   ]
  },
  {
   "cell_type": "code",
   "execution_count": null,
   "id": "83a9eca2",
   "metadata": {},
   "outputs": [
    {
     "ename": "TypeError",
     "evalue": "'>' not supported between instances of 'list' and 'int'",
     "output_type": "error",
     "traceback": [
      "\u001b[31m---------------------------------------------------------------------------\u001b[39m",
      "\u001b[31mTypeError\u001b[39m                                 Traceback (most recent call last)",
      "\u001b[36mCell\u001b[39m\u001b[36m \u001b[39m\u001b[32mIn[101]\u001b[39m\u001b[32m, line 5\u001b[39m\n\u001b[32m      3\u001b[39m count_n = \u001b[32m0\u001b[39m\n\u001b[32m      4\u001b[39m count_z = \u001b[32m0\u001b[39m\n\u001b[32m----> \u001b[39m\u001b[32m5\u001b[39m \u001b[38;5;28;01mif\u001b[39;00m \u001b[43mnum\u001b[49m\u001b[43m \u001b[49m\u001b[43m>\u001b[49m\u001b[43m \u001b[49m\u001b[32;43m0\u001b[39;49m:\n\u001b[32m      6\u001b[39m     count_p += \u001b[32m1\u001b[39m\n\u001b[32m      7\u001b[39m \u001b[38;5;28;01melif\u001b[39;00m num == \u001b[32m0\u001b[39m:\n",
      "\u001b[31mTypeError\u001b[39m: '>' not supported between instances of 'list' and 'int'"
     ]
    }
   ],
   "source": [
    "num = list(map(int,input().split()))\n",
    "count_p = 0\n",
    "count_n = 0\n",
    "count_z = 0\n",
    "if list[num] > 0:\n",
    "    count_p += 1\n",
    "elif num == 0:\n",
    "    count_z += 1\n",
    "elif num < 0:\n",
    "    count_n += 1\n",
    "else:\n",
    "    None\n",
    "\n",
    "\n"
   ]
  }
 ],
 "metadata": {
  "kernelspec": {
   "display_name": "Python 3",
   "language": "python",
   "name": "python3"
  },
  "language_info": {
   "codemirror_mode": {
    "name": "ipython",
    "version": 3
   },
   "file_extension": ".py",
   "mimetype": "text/x-python",
   "name": "python",
   "nbconvert_exporter": "python",
   "pygments_lexer": "ipython3",
   "version": "3.11.13"
  }
 },
 "nbformat": 4,
 "nbformat_minor": 5
}
